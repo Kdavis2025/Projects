{
  "nbformat": 4,
  "nbformat_minor": 0,
  "metadata": {
    "colab": {
      "provenance": [],
      "mount_file_id": "1WHEzR6C8YkqxaGYjiHk5ynEbbU7MqZAy",
      "authorship_tag": "ABX9TyP6iqDFjB91ZU5B866ko/Tj",
      "include_colab_link": true
    },
    "kernelspec": {
      "name": "python3",
      "display_name": "Python 3"
    },
    "language_info": {
      "name": "python"
    }
  },
  "cells": [
    {
      "cell_type": "markdown",
      "metadata": {
        "id": "view-in-github",
        "colab_type": "text"
      },
      "source": [
        "<a href=\"https://colab.research.google.com/github/Kdavis2025/Projects/blob/main/USASpending.ipynb\" target=\"_parent\"><img src=\"https://colab.research.google.com/assets/colab-badge.svg\" alt=\"Open In Colab\"/></a>"
      ]
    },
    {
      "cell_type": "code",
      "source": [
        "#imports\n",
        "import pandas as pd\n",
        "import numpy as np\n",
        "import matplotlib.pyplot as plt\n",
        "import seaborn as sns\n",
        "from google.colab import drive\n",
        "drive.mount('/content/drive')\n"
      ],
      "metadata": {
        "colab": {
          "base_uri": "https://localhost:8080/"
        },
        "id": "uRFJkrK4uiiu",
        "outputId": "840a48ea-6004-40d9-ad8e-f02ab838ee91"
      },
      "execution_count": null,
      "outputs": [
        {
          "output_type": "stream",
          "name": "stdout",
          "text": [
            "Drive already mounted at /content/drive; to attempt to forcibly remount, call drive.mount(\"/content/drive\", force_remount=True).\n"
          ]
        }
      ]
    },
    {
      "cell_type": "code",
      "execution_count": null,
      "metadata": {
        "id": "t0yVI12cuMGl"
      },
      "outputs": [],
      "source": [
        "# Read each large CSV file\n",
        "df = pd.read_csv('/content/drive/MyDrive/DOGE/USA Spending/All_Contracts_PrimeTransactions_2025-06-19_H03M21S29_1.csv', low_memory=False)\n",
        "df1 = pd.read_csv('/content/drive/MyDrive/DOGE/USA Spending/All_Contracts_PrimeTransactions_2025-06-19_H03M21S29_2.csv', low_memory=False)\n",
        "df2 = pd.read_csv('/content/drive/MyDrive/DOGE/USA Spending/All_Contracts_PrimeTransactions_2025-06-19_H03M21S29_3.csv', low_memory=False)\n",
        "df3 = pd.read_csv('/content/drive/MyDrive/DOGE/USA Spending/All_Contracts_PrimeTransactions_2025-06-19_H03M21S29_4.csv', low_memory=False)\n",
        "df4 = pd.read_csv('/content/drive/MyDrive/DOGE/USA Spending/All_Contracts_PrimeTransactions_2025-06-19_H03M21S29_5.csv', low_memory=False)\n",
        "df5 = pd.read_csv('/content/drive/MyDrive/DOGE/USA Spending/All_Contracts_PrimeTransactions_2025-06-19_H03M21S29_6.csv', low_memory=False)"
      ]
    }
  ]
}