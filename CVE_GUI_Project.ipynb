{
  "nbformat": 4,
  "nbformat_minor": 0,
  "metadata": {
    "colab": {
      "provenance": [],
      "authorship_tag": "ABX9TyOqcgHmKWhc+7ehZPr8S8py",
      "include_colab_link": true
    },
    "kernelspec": {
      "name": "python3",
      "display_name": "Python 3"
    },
    "language_info": {
      "name": "python"
    }
  },
  "cells": [
    {
      "cell_type": "markdown",
      "metadata": {
        "id": "view-in-github",
        "colab_type": "text"
      },
      "source": [
        "<a href=\"https://colab.research.google.com/github/Kdavis2025/Projects/blob/main/CVE_GUI_Project.ipynb\" target=\"_parent\"><img src=\"https://colab.research.google.com/assets/colab-badge.svg\" alt=\"Open In Colab\"/></a>"
      ]
    },
    {
      "cell_type": "markdown",
      "source": [
        "## **Business Case**: *Enhancing Vulnerability Intelligence through Automated CVE Ingestion and Analysis*\n",
        "\n",
        "\n",
        "In today’s evolving cyber threat landscape, proactive vulnerability management is a cornerstone of modern cybersecurity strategy. The National Vulnerability Database (NVD) maintains an authoritative feed of Common Vulnerabilities and Exposures (CVEs), serving as a crucial resource for cybersecurity professionals and organizations aiming to stay ahead of potential exploits.\n",
        "\n",
        "For a cybersecurity firm, the ability to automate the collection, analysis, and visualization of CVE data directly from the NVD API is a strategic advantage. This allows rapid identification of high-severity vulnerabilities, trend detection across years or industries, and the ability to prioritize remediation efforts effectively. Automating this process also reduces the overhead of manual data entry and ensures real-time relevance.\n",
        "\n",
        "This project simulates a real-world scenario where our firm builds a vulnerability intelligence platform that consumes CVE data from the NVD, cleans and stores it in a reliable database, exposes searchable APIs for security analysts, and provides a clean UI for business visibility."
      ],
      "metadata": {
        "id": "zorklqx2DcS0"
      }
    },
    {
      "cell_type": "markdown",
      "source": [
        "## **Data Science & Problem Statement:** *CVE Data Engineering and Risk Analysis Pipeline*\n",
        "The primary objective of this project is to build a scalable data pipeline and analytics framework for CVE data retrieved from the NVD’s public API. This pipeline will support:\n",
        "\n",
        "**1. Data Engineering:**\n",
        "\n",
        "* Ingest CVE data via chunked paginated API calls.\n",
        "* Implement batch processing for initial full load and incremental syncs using metadata such as lastModified.\n",
        "* Use ETL best practices to clean, deduplicate, and normalize the dataset (e.g., handling nulls, resolving conflicts in version scores, converting nested JSON fields into relational schema).\n",
        "\n",
        "**2. Data Storage:**\n",
        "\n",
        "* Store CVE records in a normalized schema in a relational database (e.g.,\n",
        "* PostgreSQL) or document-based store (e.g., MongoDB) with appropriate indexing on fields such as CVEID, year, and CVSS score.\n",
        "\n",
        "**3. Data Analysis:**\n",
        "\n",
        "* Enable filtering and querying CVE data by risk score (CVSS v2/v3), year, and recency.\n",
        "* Analyze trends in vulnerability growth, average CVSS scores over time, and high-impact CVEs.\n",
        "* Generate summary statistics (mean, mode, standard deviation) of CVSS scores to help risk teams prioritize patches.\n",
        "\n",
        "**4. API Layer:**\n",
        "Build RESTful APIs to expose CVE records with filters:\n",
        "\n",
        "* /api/cves?id=CVE-2023-XXXXXw\n",
        "\n",
        "* /api/cves?year=2022\n",
        "\n",
        "* /api/cves?score_gte=7.0\n",
        "\n",
        "* /api/cves?modified_last_n_days=30\n",
        "* Ensure APIs are secured with input validation, throttling, and JSON schema compliance.\n",
        "\n",
        "**5. Visualization:**\n",
        "\n",
        "* Create a dashboard using HTML, CSS, and JavaScript (or optionally a JS framework like Vue/React) to display:\n",
        "\n",
        "* Top vulnerabilities by score.\n",
        "\n",
        "* Number of vulnerabilities per year.\n",
        "\n",
        "* Filtering by date or severity.\n",
        "\n",
        "**6. Testing & Documentation:**\n",
        "\n",
        "* Write unit tests for all core functionalities using PyTest or similar.\n",
        "\n",
        "* Document the API with Swagger/OpenAPI format."
      ],
      "metadata": {
        "id": "1N6F7QE2HdBc"
      }
    },
    {
      "cell_type": "markdown",
      "source": [
        "Step 1: Setup the Environment"
      ],
      "metadata": {
        "id": "EqE22tTyV9Fi"
      }
    },
    {
      "cell_type": "code",
      "execution_count": 28,
      "metadata": {
        "colab": {
          "base_uri": "https://localhost:8080/"
        },
        "id": "ViCcfwCBDbOq",
        "outputId": "74ae580f-70d8-4223-e3af-5864f64c7752"
      },
      "outputs": [
        {
          "output_type": "stream",
          "name": "stdout",
          "text": [
            "Requirement already satisfied: flask in /usr/local/lib/python3.11/dist-packages (3.1.0)\n",
            "Requirement already satisfied: pymongo in /usr/local/lib/python3.11/dist-packages (4.12.0)\n",
            "Requirement already satisfied: requests in /usr/local/lib/python3.11/dist-packages (2.32.3)\n",
            "Requirement already satisfied: apscheduler in /usr/local/lib/python3.11/dist-packages (3.11.0)\n",
            "Requirement already satisfied: Werkzeug>=3.1 in /usr/local/lib/python3.11/dist-packages (from flask) (3.1.3)\n",
            "Requirement already satisfied: Jinja2>=3.1.2 in /usr/local/lib/python3.11/dist-packages (from flask) (3.1.6)\n",
            "Requirement already satisfied: itsdangerous>=2.2 in /usr/local/lib/python3.11/dist-packages (from flask) (2.2.0)\n",
            "Requirement already satisfied: click>=8.1.3 in /usr/local/lib/python3.11/dist-packages (from flask) (8.1.8)\n",
            "Requirement already satisfied: blinker>=1.9 in /usr/local/lib/python3.11/dist-packages (from flask) (1.9.0)\n",
            "Requirement already satisfied: dnspython<3.0.0,>=1.16.0 in /usr/local/lib/python3.11/dist-packages (from pymongo) (2.7.0)\n",
            "Requirement already satisfied: charset-normalizer<4,>=2 in /usr/local/lib/python3.11/dist-packages (from requests) (3.4.1)\n",
            "Requirement already satisfied: idna<4,>=2.5 in /usr/local/lib/python3.11/dist-packages (from requests) (3.10)\n",
            "Requirement already satisfied: urllib3<3,>=1.21.1 in /usr/local/lib/python3.11/dist-packages (from requests) (2.3.0)\n",
            "Requirement already satisfied: certifi>=2017.4.17 in /usr/local/lib/python3.11/dist-packages (from requests) (2025.1.31)\n",
            "Requirement already satisfied: tzlocal>=3.0 in /usr/local/lib/python3.11/dist-packages (from apscheduler) (5.3.1)\n",
            "Requirement already satisfied: MarkupSafe>=2.0 in /usr/local/lib/python3.11/dist-packages (from Jinja2>=3.1.2->flask) (3.0.2)\n"
          ]
        }
      ],
      "source": [
        "# Install required pakages\n",
        "\n",
        "!pip install flask pymongo requests apscheduler"
      ]
    },
    {
      "cell_type": "markdown",
      "source": [
        "Step 2: Initialize Flask Application"
      ],
      "metadata": {
        "id": "AfE8IMZjUkHX"
      }
    },
    {
      "cell_type": "code",
      "source": [
        "# Import the Flask framework and initialize the app.\n",
        "# Lay the foundation for both API endpoints and UI pages\n",
        "\n",
        "from flask import Flask, request, jsonify, render_template_string\n",
        "app = Flask(__name__)"
      ],
      "metadata": {
        "id": "a5c_eOerHa2k"
      },
      "execution_count": 29,
      "outputs": []
    },
    {
      "cell_type": "markdown",
      "source": [
        "Step 3: Initialize Your Flask Application"
      ],
      "metadata": {
        "id": "77kQR383VAgX"
      }
    },
    {
      "cell_type": "code",
      "source": [
        "# Set Up the Database with PyMongo: Establish a connection using PyMongo. You can use your local MongoDB server or a cloud-based solution.\n",
        "# Create a Database and Collection: Define a database (e.g., nvd_cve_db) and a collection (e.g., cves) to store the CVE records.\n",
        "\n",
        "import pymongo\n",
        "client = pymongo.MongoClient(\"mongodb://localhost:27017/\")\n",
        "db = client[\"nvd_cve_db\"]\n",
        "cve_collection = db[\"cves\"]"
      ],
      "metadata": {
        "id": "ro_GPyaDUNTf"
      },
      "execution_count": 30,
      "outputs": []
    },
    {
      "cell_type": "markdown",
      "source": [
        "Step 4: Write the Data Fetching Logic"
      ],
      "metadata": {
        "id": "laBZZ88FX8hp"
      }
    },
    {
      "cell_type": "code",
      "source": [
        "# Define a Function to Fetch CVEs: Use the requests library to call the NVD API. The function should accept parameters like startIndex and resultsPerPage, then return the JSON response.\n",
        "# Handle Errors: Check for a successful response before proceeding.\n",
        "\n",
        "import requests\n",
        "\n",
        "NVD_API_BASE = \"https://services.nvd.nist.gov/rest/json/cves/2.0\"\n",
        "\n",
        "def fetch_cves(start_index=0, results_per_page=100):\n",
        "    params = {\"startIndex\": start_index, \"resultsPerPage\": results_per_page}\n",
        "    response = requests.get(NVD_API_BASE, params=params)\n",
        "    if response.status_code == 200:\n",
        "        return response.json()\n",
        "    else:\n",
        "        print(f\"Error fetching data: {response.status_code}\")\n",
        "        return None"
      ],
      "metadata": {
        "id": "fPyVtOIGYEJx"
      },
      "execution_count": 31,
      "outputs": []
    },
    {
      "cell_type": "markdown",
      "source": [
        "Step 5: Process and Synchronize the Data"
      ],
      "metadata": {
        "id": "ATntvhlVYe_f"
      }
    },
    {
      "cell_type": "code",
      "source": [
        "# Create a Synchronization Function (sync_cves): Loop through the API responses using the pagination parameters until all pages have been retrieved.\n",
        "# Data Cleansing & Deduplication- Extract necessary fields such as CVE ID, description, publication dates, and CVSS scores.\n",
        "# Convert date strings into Python datetime objects.\n",
        "# Prepare each record for an upsert operation to avoid duplicate entries.\n",
        "# Batch Upsert Operations: Use PyMongo’s bulk_write for efficient database operations.\n",
        "\n",
        "from pymongo import UpdateOne\n",
        "import datetime\n",
        "import time\n",
        "\n",
        "#Iniitalizes CVEs\n",
        "  # start_index: This variable is initialized to 0 and is used to keep track of the starting position for fetching data from the NVD API (pagination).\n",
        "  # results_per_page: Set to 100, this variable determines how many CVE records to request per API call.\n",
        "  # total_results: Initially set to infinity (float('inf')), this variable will store the total number of CVE records available from the API.\n",
        "  # bulk_operations: This empty list will store database operations to be executed in batches for efficiency.\n",
        "\n",
        "def sync_cves():\n",
        "    start_index = 0\n",
        "    results_per_page = 100\n",
        "    total_results = float('inf')\n",
        "    bulk_operations = []\n",
        "\n",
        "#Fetch and Process Data\n",
        " # The while loop iterates until all CVE records have been fetched.\n",
        " # fetch_cves: This function (defined elsewhere in the code) makes API calls to the NVD to retrieve CVE data.\n",
        " # The loop processes the data, extracts relevant information like CVE ID, description, dates, and scores, and stores it in the doc dictionary.\n",
        " # UpdateOne: Operations are prepared using this class to either update existing documents or insert new ones based on the CVE ID.\n",
        " # Note: These operations are added to the bulk_operations list.\n",
        "\n",
        "    while start_index < total_results:\n",
        "        data = fetch_cves(start_index, results_per_page)\n",
        "        if not data:\n",
        "            break\n",
        "\n",
        "        total_results = data.get(\"totalResults\", 0)\n",
        "        vulnerabilities = data.get(\"vulnerabilities\", [])\n",
        "        # ... (Data extraction and processing within the loop)\n",
        "\n",
        "        for item in vulnerabilities:\n",
        "            cve_item = item.get(\"cve\", {})\n",
        "            cve_id = cve_item.get(\"id\")\n",
        "            if not cve_id:\n",
        "                continue\n",
        "\n",
        "            description_list = cve_item.get(\"descriptions\", [])\n",
        "            description = description_list[0].get(\"value\") if description_list else \"\"\n",
        "\n",
        "            publishedDateStr = cve_item.get(\"published\")\n",
        "            lastModifiedStr = cve_item.get(\"lastModified\")\n",
        "            try:\n",
        "                publishedDate = (datetime.datetime.fromisoformat(publishedDateStr.replace('Z', '+00:00'))\n",
        "                                 if publishedDateStr else None)\n",
        "                lastModifiedDate = (datetime.datetime.fromisoformat(lastModifiedStr.replace('Z', '+00:00'))\n",
        "                                    if lastModifiedStr else None)\n",
        "            except Exception:\n",
        "                publishedDate = lastModifiedDate = None\n",
        "\n",
        "            cvssV2Score, cvssV3Score = None, None\n",
        "            metrics = item.get(\"metrics\", {})\n",
        "            if \"cvssMetricV2\" in metrics and metrics[\"cvssMetricV2\"]:\n",
        "                cvssV2Score = metrics[\"cvssMetricV2\"][0][\"cvssData\"].get(\"baseScore\")\n",
        "            if \"cvssMetricV3\" in metrics and metrics[\"cvssMetricV3\"]:\n",
        "                cvssV3Score = metrics[\"cvssMetricV3\"][0][\"cvssData\"].get(\"baseScore\")\n",
        "\n",
        "            doc = {\n",
        "                \"cveId\": cve_id,\n",
        "                \"description\": description,\n",
        "                \"publishedDate\": publishedDate,\n",
        "                \"lastModifiedDate\": lastModifiedDate,\n",
        "                \"cvssV2Score\": cvssV2Score,\n",
        "                \"cvssV3Score\": cvssV3Score,\n",
        "                \"rawData\": item\n",
        "            }\n",
        "\n",
        "            bulk_operations.append(\n",
        "                UpdateOne({\"cveId\": cve_id}, {\"$set\": doc}, upsert=True)\n",
        "            )\n",
        "        # Database Operations\n",
        "           # If the bulk_operations list contains operations, they are executed in a batch using cve_collection.bulk_write.\n",
        "           # This is more efficient than individual database operations.\n",
        "           # The bulk_operations list is then cleared to prepare for the next batch.\n",
        "        if bulk_operations:\n",
        "            cve_collection.bulk_write(bulk_operations)\n",
        "            bulk_operations = []\n",
        "\n",
        "        #Pagenation and Delay\n",
        "          # start_index: This is updated to move to the next page of results from the API.\n",
        "          # time.sleep(1): The code pauses for 1 second to avoid overwhelming the NVD API with requests.\n",
        "        start_index += results_per_page\n",
        "        time.sleep(1)"
      ],
      "metadata": {
        "id": "dhXdu3O0YmR2"
      },
      "execution_count": 32,
      "outputs": []
    },
    {
      "cell_type": "markdown",
      "source": [
        "Step 6: Schedule Periodic Synchronization"
      ],
      "metadata": {
        "id": "frNszyMrZ98f"
      }
    },
    {
      "cell_type": "code",
      "source": [
        "# Integrate APScheduler: Schedule the sync_cves function to run periodically (for example, every hour) so that your database remains up to date.\n",
        "# Start the Scheduler\n",
        "\n",
        "from apscheduler.schedulers.background import BackgroundScheduler\n",
        "import time\n",
        "import signal\n",
        "import sys\n",
        "\n",
        "# Define or import your sync_cves function\n",
        "def sync_cves():\n",
        "    print(\"Syncing CVEs...\")  # Replace with actual logic\n",
        "\n",
        "# Create the scheduler\n",
        "scheduler = BackgroundScheduler()\n",
        "scheduler.add_job(func=sync_cves, trigger=\"interval\", hours=1)\n",
        "scheduler.start()\n",
        "\n",
        "# Optional: Run sync immediately at startup\n",
        "sync_cves()\n",
        "\n"
      ],
      "metadata": {
        "colab": {
          "base_uri": "https://localhost:8080/"
        },
        "id": "UtwMUpP-fF9m",
        "outputId": "cde8f206-7919-4fc3-b83a-0c0b62d52fb9"
      },
      "execution_count": 33,
      "outputs": [
        {
          "output_type": "stream",
          "name": "stdout",
          "text": [
            "Syncing CVEs...\n"
          ]
        }
      ]
    },
    {
      "cell_type": "markdown",
      "source": [
        "Step 7: Build the API Endpoints with Flask"
      ],
      "metadata": {
        "id": "gnVOXOyBg2xF"
      }
    },
    {
      "cell_type": "code",
      "source": [
        "#Get_CVES Function\n",
        "@app.route('/api/cves', methods=['GET'])\n",
        "def get_cves():\n",
        "    #Build the Query\n",
        "    query = {}\n",
        "    cveId = request.args.get(\"cveId\")\n",
        "    year = request.args.get(\"year\")\n",
        "    score = request.args.get(\"score\", type=float)\n",
        "    lastModifiedDays = request.args.get(\"lastModifiedDays\", type=int)\n",
        "    limit = request.args.get(\"limit\", 10, type=int)\n",
        "    offset = request.args.get(\"offset\", 0, type=int)\n",
        "\n",
        "    if cveId:\n",
        "        query[\"cveId\"] = cveId\n",
        "    if year:\n",
        "        query[\"cveId\"] = {\"$regex\": f\"cve-{year}-\", \"$options\": \"i\"}\n",
        "    if score is not None:\n",
        "        query[\"$or\"] = [\n",
        "            {\"cvssV2Score\": {\"$gte\": score}},\n",
        "            {\"cvssV3Score\": {\"$gte\": score}}\n",
        "        ]\n",
        "    if lastModifiedDays is not None:\n",
        "        date_threshold = datetime.datetime.utcnow() - datetime.timedelta(days=lastModifiedDays)\n",
        "        query[\"lastModifiedDate\"] = {\"$gte\": date_threshold}\n",
        "\n",
        "    #Retrieve data from Database\n",
        "    total_records = cve_collection.count_documents(query)\n",
        "    cursor = cve_collection.find(query).sort(\"publishedDate\", -1).skip(offset).limit(limit)\n",
        "    cve_list = list(cursor)\n",
        "\n",
        "    #Format the Response\n",
        "    for doc in cve_list:\n",
        "        doc[\"_id\"] = str(doc[\"_id\"])\n",
        "        if doc.get(\"publishedDate\"):\n",
        "            doc[\"publishedDate\"] = doc[\"publishedDate\"].isoformat()\n",
        "        if doc.get(\"lastModifiedDate\"):\n",
        "            doc[\"lastModifiedDate\"] = doc[\"lastModifiedDate\"].isoformat()\n",
        "    return jsonify({\"totalRecords\": total_records, \"data\": cve_list})"
      ],
      "metadata": {
        "id": "ypdosBTgg4hf"
      },
      "execution_count": 34,
      "outputs": []
    },
    {
      "cell_type": "markdown",
      "source": [
        "Step 8: Develop the Frontend UI in Javascript"
      ],
      "metadata": {
        "id": "byfBCXx9g5Lo"
      }
    },
    {
      "cell_type": "code",
      "source": [
        "list_template = \"\"\"\n",
        "<!DOCTYPE html>\n",
        "<html lang=\"en\">\n",
        "<head>\n",
        "  <meta charset=\"UTF-8\">\n",
        "  <title>CVE List</title>\n",
        "  <style>\n",
        "    table { width: 100%; border-collapse: collapse; }\n",
        "    th, td { border: 1px solid #ccc; padding: 8px; text-align: left; }\n",
        "    tr:hover { background-color: #f2f2f2; cursor: pointer; }\n",
        "  </style>\n",
        "</head>\n",
        "<body>\n",
        "  <h1>CVE List</h1>\n",
        "  <div>Total Records: <span id=\"total-records\">0</span></div>\n",
        "  <table id=\"cveTable\">\n",
        "    <thead>\n",
        "      <tr>\n",
        "        <th>CVE ID</th>\n",
        "        <th>Description</th>\n",
        "        <th>Published Date</th>\n",
        "        <th>CVSS Score</th>\n",
        "      </tr>\n",
        "    </thead>\n",
        "    <tbody></tbody>\n",
        "  </table>\n",
        "  <div>\n",
        "    Results Per Page:\n",
        "    <select id=\"resultsPerPage\">\n",
        "      <option value=\"10\" selected>10</option>\n",
        "      <option value=\"50\">50</option>\n",
        "      <option value=\"100\">100</option>\n",
        "    </select>\n",
        "  </div>\n",
        "  <script>\n",
        "    const resultsPerPageSelect = document.getElementById('resultsPerPage');\n",
        "    const totalRecordsSpan = document.getElementById('total-records');\n",
        "    const tableBody = document.querySelector('#cveTable tbody');\n",
        "    let currentPage = 0;\n",
        "\n",
        "    async function fetchCVEs(limit=10, offset=0) {\n",
        "      const res = await fetch(`/api/cves?limit=${limit}&offset=${offset}`);\n",
        "      const result = await res.json();\n",
        "      totalRecordsSpan.textContent = result.totalRecords;\n",
        "      return result.data;\n",
        "    }\n",
        "\n",
        "    async function renderCVETable() {\n",
        "      const limit = Number(resultsPerPageSelect.value);\n",
        "      const data = await fetchCVEs(limit, currentPage * limit);\n",
        "      tableBody.innerHTML = '';\n",
        "      data.forEach(cve => {\n",
        "        const row = document.createElement('tr');\n",
        "        row.innerHTML = `\n",
        "          <td>${cve.cveId}</td>\n",
        "          <td>${cve.description.substring(0, 100)}...</td>\n",
        "          <td>${new Date(cve.publishedDate).toLocaleDateString()}</td>\n",
        "          <td>${cve.cvssV2Score || cve.cvssV3Score || 'N/A'}</td>\n",
        "        `;\n",
        "        row.addEventListener('click', () => {\n",
        "          window.location.href = `/cves/${cve.cveId}`;\n",
        "        });\n",
        "        tableBody.appendChild(row);\n",
        "      });\n",
        "    }\n",
        "\n",
        "    resultsPerPageSelect.addEventListener('change', () => {\n",
        "      currentPage = 0;\n",
        "      renderCVETable();\n",
        "    });\n",
        "    renderCVETable();\n",
        "  </script>\n",
        "</body>\n",
        "</html>\n",
        "\"\"\"\n",
        "#Flask Router\n",
        "@app.route('/cves/list')\n",
        "def cve_list_view():\n",
        "    return render_template_string(list_template)"
      ],
      "metadata": {
        "id": "WnNcDo-pg5rm"
      },
      "execution_count": 35,
      "outputs": []
    },
    {
      "cell_type": "markdown",
      "source": [
        "Step 9: Write Unit Tests to validate CVE UI and Functionality"
      ],
      "metadata": {
        "id": "GhsAiZyRhCP0"
      }
    },
    {
      "cell_type": "code",
      "source": [
        "# Create a Test File (e.g., test_app.py): Use Python’s built-in unittest framework and GUI to interface\n",
        "# Test Your Endpoints: Utilize Flask’s test client to call your endpoints (for both the list and detail views) and verify that the responses contain the expected data.\n",
        "\n",
        "!pip install flask_testing\n",
        "import unittest\n",
        "from flask_testing import TestCase\n",
        "\n",
        "#Sets up the test Class\n",
        "class TestApp(TestCase):\n",
        "    def create_app(self):\n",
        "        app.config['TESTING'] = True\n",
        "        return app\n",
        "\n",
        "#Writes Test Methods with simulated GET Request\n",
        "    def test_cve_list_view(self):\n",
        "        response = self.client.get('/cves/list')\n",
        "        self.assertEqual(response.status_code, 200) # Checks for 200 which represents sucessful request\n",
        "        self.assertIn(b'CVE List', response.data)\n",
        "        self.assertIn(b'Total Records:', response.data)\n",
        "        self.assertIn(b'Results Per Page:', response.data)\n",
        "        self.assertIn(b'table', response.data)\n",
        "        self.assertIn(b'thead', response.data)\n",
        "        self.assertIn(b'tbody', response.data)\n",
        "        self.assertIn(b'tr', response.data)\n",
        "        self.assertIn(b'th', response.data)\n",
        "        self.assertIn(b'td', response.data)\n",
        "\n",
        "    def test_cve_detail_view(self):\n",
        "        response = self.client.get('/cves/CVE-2023-12345')\n",
        "        self.assertEqual(response.status_code, 200) # Checks for 200 which represents sucessful request\n",
        "        self.assertIn(b'CVE Detail', response.data)\n",
        "        self.assertIn(b'CVE ID:', response.data)\n",
        "        self.assertIn(b'Description:', response.data)\n",
        "        self.assertIn(b'Published Date:', response.data)\n",
        "        self.assertIn(b'CVSS Score:', response.data)\n",
        "        self.assertIn(b'Raw Data:', response.data)\n",
        "\n",
        "\n",
        "\n",
        "    def test_api_cves(self):\n",
        "        response = self.client.get('/api/cves')\n",
        "        self.assertEqual(response.status_code, 200) # Checks for 200 which represents sucessful request\n",
        "        data = response.get_json()\n",
        "        self.assertIn('totalRecords', data)\n",
        "        self.assertIn('data', data)\n",
        "\n",
        "\n",
        "    def test_api_cves_with_params(self):\n",
        "        response = self.client.get('/api/cves?year=2023')\n",
        "        self.assertEqual(response.status_code, 200) # Checks for 200 which represents sucessful request\n",
        "        data = response.get_json()\n",
        "        self.assertIn('totalRecords', data)\n",
        "        self.assertIn('data', data)\n",
        "        for item in data['data']:\n",
        "            self.assertIn('cveId', item)\n",
        "            self.assertIn('publishedDate', item)\n",
        "            self.assertIn('lastModifiedDate', item)\n",
        "            self.assertIn('cvssV2Score', item)\n",
        "            self.assertIn('cvssV3Score', item)\n",
        "            self.assertIn('rawData', item)\n",
        "            self.assertEqual(item['cveId'][:4], 'CVE-2023')\n",
        "\n",
        "\n",
        "    def test_api_cves_with_invalid_params(self):\n",
        "        response = self.client.get('/api/cves?year=invalid')\n",
        "        self.assertEqual(response.status_code, 200) # Checks for 200 which represents sucessful request\n",
        "        data = response.get_json()\n",
        "        self.assertIn('totalRecords', data)\n",
        "        self.assertIn('data', data)\n",
        "        self.assertEqual(data['totalRecords'], 0)\n",
        "        self.assertEqual(len(data['data']), 0)\n",
        "\n",
        "# Initialize the main GUI to incorprate front end/back end application\n",
        "if __name__ == '__main__':\n",
        "    unittest.main()\n",
        "\n",
        "\n"
      ],
      "metadata": {
        "colab": {
          "base_uri": "https://localhost:8080/",
          "height": 449
        },
        "id": "Rbn80aTMhKJ3",
        "outputId": "3dc6426d-96ab-4961-c252-38b22e3dd9ba"
      },
      "execution_count": 36,
      "outputs": [
        {
          "output_type": "stream",
          "name": "stdout",
          "text": [
            "Requirement already satisfied: flask_testing in /usr/local/lib/python3.11/dist-packages (0.8.1)\n",
            "Requirement already satisfied: Flask in /usr/local/lib/python3.11/dist-packages (from flask_testing) (3.1.0)\n",
            "Requirement already satisfied: Werkzeug>=3.1 in /usr/local/lib/python3.11/dist-packages (from Flask->flask_testing) (3.1.3)\n",
            "Requirement already satisfied: Jinja2>=3.1.2 in /usr/local/lib/python3.11/dist-packages (from Flask->flask_testing) (3.1.6)\n",
            "Requirement already satisfied: itsdangerous>=2.2 in /usr/local/lib/python3.11/dist-packages (from Flask->flask_testing) (2.2.0)\n",
            "Requirement already satisfied: click>=8.1.3 in /usr/local/lib/python3.11/dist-packages (from Flask->flask_testing) (8.1.8)\n",
            "Requirement already satisfied: blinker>=1.9 in /usr/local/lib/python3.11/dist-packages (from Flask->flask_testing) (1.9.0)\n",
            "Requirement already satisfied: MarkupSafe>=2.0 in /usr/local/lib/python3.11/dist-packages (from Jinja2>=3.1.2->Flask->flask_testing) (3.0.2)\n"
          ]
        },
        {
          "output_type": "stream",
          "name": "stderr",
          "text": [
            "E\n",
            "======================================================================\n",
            "ERROR: /root/ (unittest.loader._FailedTest./root/)\n",
            "----------------------------------------------------------------------\n",
            "AttributeError: module '__main__' has no attribute '/root/'\n",
            "\n",
            "----------------------------------------------------------------------\n",
            "Ran 1 test in 0.003s\n",
            "\n",
            "FAILED (errors=1)\n"
          ]
        },
        {
          "output_type": "error",
          "ename": "SystemExit",
          "evalue": "True",
          "traceback": [
            "An exception has occurred, use %tb to see the full traceback.\n",
            "\u001b[0;31mSystemExit\u001b[0m\u001b[0;31m:\u001b[0m True\n"
          ]
        },
        {
          "output_type": "stream",
          "name": "stderr",
          "text": [
            "/usr/local/lib/python3.11/dist-packages/IPython/core/interactiveshell.py:3561: UserWarning: To exit: use 'exit', 'quit', or Ctrl-D.\n",
            "  warn(\"To exit: use 'exit', 'quit', or Ctrl-D.\", stacklevel=1)\n"
          ]
        }
      ]
    },
    {
      "cell_type": "markdown",
      "source": [
        "I encountered a problem while trying to instantiate my CVE GUI. I believe the issue lies in the 'app' library not being located within the designated folder. After spending a few days troubleshooting, I decided it was time to ask for help."
      ],
      "metadata": {
        "id": "iirsJLIvhRfp"
      }
    }
  ]
}